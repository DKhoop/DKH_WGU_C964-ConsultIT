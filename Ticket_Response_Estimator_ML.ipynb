{
 "cells": [
  {
   "cell_type": "code",
   "execution_count": 1,
   "id": "2a3ba1d4",
   "metadata": {},
   "outputs": [],
   "source": [
    "import pandas as pd\n",
    "import seaborn as sns\n",
    "import matplotlib.pyplot as plt\n",
    "from sklearn.model_selection import train_test_split\n",
    "from sklearn import metrics\n",
    "import random"
   ]
  },
  {
   "cell_type": "code",
   "execution_count": 2,
   "id": "4e32fb71",
   "metadata": {},
   "outputs": [],
   "source": [
    "df = pd.read_csv(\"ConsultIT_HelpDesk_Tickets.csv\")"
   ]
  },
  {
   "cell_type": "code",
   "execution_count": 3,
   "id": "6b0452ea",
   "metadata": {},
   "outputs": [],
   "source": [
    "feature_cols = ['RequestorSeniority', 'ITOwner', 'FiledAgainst', 'TicketType', 'Severity', 'Priority']\n",
    "X = df[feature_cols]\n",
    "\n",
    "feature_target = ['response']\n",
    "y = df[feature_target]"
   ]
  },
  {
   "cell_type": "code",
   "execution_count": 4,
   "id": "94eefa6c",
   "metadata": {},
   "outputs": [],
   "source": [
    "from sklearn.model_selection import train_test_split\n",
    "X_train, X_test, y_train, y_test = train_test_split(X,y,random_state=24, test_size=0.2)"
   ]
  },
  {
   "cell_type": "code",
   "execution_count": 5,
   "id": "aebacd06",
   "metadata": {},
   "outputs": [],
   "source": [
    "from sklearn.model_selection import GridSearchCV\n",
    "from sklearn.tree import DecisionTreeClassifier\n",
    "from sklearn.metrics import accuracy_score, confusion_matrix, classification_report"
   ]
  },
  {
   "cell_type": "code",
   "execution_count": 6,
   "id": "1acead1b",
   "metadata": {},
   "outputs": [],
   "source": [
    "%%capture\n",
    "dt = DecisionTreeClassifier()\n",
    "dt.fit(X_train,y_train)"
   ]
  },
  {
   "cell_type": "code",
   "execution_count": 7,
   "id": "6286c220",
   "metadata": {},
   "outputs": [],
   "source": [
    "import warnings\n",
    "warnings.filterwarnings('ignore')\n",
    "\n",
    "import ipywidgets as widgets\n",
    "from IPython.display import display, clear_output"
   ]
  },
  {
   "cell_type": "code",
   "execution_count": 8,
   "id": "48a40ef3",
   "metadata": {},
   "outputs": [],
   "source": [
    "y_pred = dt.predict(X_test)"
   ]
  },
  {
   "cell_type": "code",
   "execution_count": 9,
   "id": "9f099bf4-6494-433a-9562-db725696fe17",
   "metadata": {},
   "outputs": [],
   "source": [
    "Ticket_catagories = [\n",
    "    'Access/Login', 'Hardware', 'Software', \n",
    "    'Systems'\n",
    "]"
   ]
  },
  {
   "cell_type": "code",
   "execution_count": 10,
   "id": "f7451a30",
   "metadata": {},
   "outputs": [],
   "source": [
    "#print('Train Accuracy: ', accuracy_score(y_train,dt.predict(X_train)))"
   ]
  },
  {
   "cell_type": "code",
   "execution_count": 11,
   "id": "f9956397",
   "metadata": {},
   "outputs": [],
   "source": [
    "#!jupyter nbextension enable --py widgetsnbextension --sys-prefix\n",
    "#!jupyter serverextension enable voila --sys-prefix"
   ]
  },
  {
   "cell_type": "code",
   "execution_count": 12,
   "id": "ad3a4312",
   "metadata": {},
   "outputs": [],
   "source": [
    "RequestorSeniority= widgets.Dropdown(\n",
    "    options=[('Junior', 1), ('Regular', 2), ('Senior', 3), ('Management', 4)],\n",
    "    value=2,\n",
    ")"
   ]
  },
  {
   "cell_type": "code",
   "execution_count": 13,
   "id": "bf36a0c0",
   "metadata": {},
   "outputs": [],
   "source": [
    "FiledAgainst= widgets.Dropdown(\n",
    "    options=[('Access/Login', 0), ('Hardware', 1), ('Software', 2), ('Systems', 3)],\n",
    "    value=0,\n",
    ")"
   ]
  },
  {
   "cell_type": "code",
   "execution_count": 14,
   "id": "bf07fcff",
   "metadata": {},
   "outputs": [],
   "source": [
    "TicketType= widgets.Dropdown(\n",
    "    options=[('Issue', 0), ('Request', 1)],\n",
    "    value=0,\n",
    ")"
   ]
  },
  {
   "cell_type": "code",
   "execution_count": 15,
   "id": "75bb31ae",
   "metadata": {},
   "outputs": [],
   "source": [
    "Severity= widgets.Dropdown(\n",
    "    options=[('Unsure', 0), ('Minor', 1), ('Normal', 2), ('Major', 3), ('Critical', 4)],\n",
    "    value=0,\n",
    ")"
   ]
  },
  {
   "cell_type": "code",
   "execution_count": 16,
   "id": "6765c3c7",
   "metadata": {},
   "outputs": [],
   "source": [
    "Priority= widgets.Dropdown(\n",
    "    options=[('Unassigned', 0), ('Low', 1), ('Medium', 2), ('High', 3)],\n",
    "    value=0,\n",
    ")"
   ]
  },
  {
   "cell_type": "code",
   "execution_count": 17,
   "id": "6d66ea5b",
   "metadata": {},
   "outputs": [],
   "source": [
    "text_0 = widgets.HTML(value=\"<h1>ConsultIT</h1>\")\n",
    "text_1 = widgets.HTML(value=\"<h3>Thank you for trusting ConsultIT with your IT assistance needs</h3>\")\n",
    "text_2 = widgets.HTML(value=\"<h3>Please fill out the information below and hit Submit Ticket when complete</h3>\")\n",
    "text_3 = widgets.HTML(value=\"<h4>Which area is your ticket related to:</h4>\")\n",
    "text_4 = widgets.HTML(value=\"<h4>What type of ticket is this:</h4>\")\n",
    "text_5 = widgets.HTML(value=\"<h4>What would you say is the severity of this ticket:</h4>\")\n",
    "text_6 = widgets.HTML(value=\"<h4>How high of a priorty would you relate your ticket:</h4>\")\n",
    "text_7 = widgets.HTML(value=\"<h4>What is your position level:</h4>\")"
   ]
  },
  {
   "cell_type": "code",
   "execution_count": 18,
   "id": "2f4bbb17",
   "metadata": {},
   "outputs": [],
   "source": [
    "estimated_completion = ''\n",
    "def estimated_time(prediction):\n",
    "    if prediction == 1:\n",
    "        estimated_completion = '0 - 4'\n",
    "    elif prediction == 2:\n",
    "        estimated_completion = '5 - 10'\n",
    "    elif prediction == 3:\n",
    "        estimated_completion = '11 - 25'\n",
    "    else:\n",
    "        estimated_completion = '26+'\n",
    "    return estimated_completion"
   ]
  },
  {
   "cell_type": "code",
   "execution_count": 19,
   "id": "8c2eff24-f06f-4c25-b4ac-ab7cf254994a",
   "metadata": {},
   "outputs": [],
   "source": [
    "def pie_chart():\n",
    "    num_catagories = df.groupby(by='FiledAgainst').size()\n",
    "    plt.figure(figsize=(8,8))\n",
    "    plt.pie(x=num_catagories, labels=Ticket_catagories,autopct='%1.2f%%',textprops={'fontsize':14})\n",
    "    plt.title(\n",
    "        label=\"Percentage of Trouble Tickets filed by Catagory\", \n",
    "        fontdict={\"fontsize\":16},\n",
    "        pad=20\n",
    "    )\n",
    "    plt.show()"
   ]
  },
  {
   "cell_type": "code",
   "execution_count": 20,
   "id": "0fb1523b",
   "metadata": {},
   "outputs": [],
   "source": [
    "button_send = widgets.Button(\n",
    "                description='Submit Ticket',\n",
    "                tooltip='Send',\n",
    "                style={'description_width': 'initial'}\n",
    "            )\n",
    "\n",
    "output = widgets.Output()\n",
    "\n",
    "def on_button_clicked(event):\n",
    "    with output:\n",
    "        clear_output()\n",
    "        ITOwner = random.randint(1,50)\n",
    "        input_values = [RequestorSeniority.value, ITOwner, FiledAgainst.value, TicketType.value, Severity.value, Priority.value]\n",
    "        response_time = dt.predict([input_values])\n",
    "        date_range = estimated_time(response_time)\n",
    "        print(\"\\n\")\n",
    "        print(f\"Thank you for submitting your ticket! This ticket has been assigned to IT assistant # {ITOwner}\")\n",
    "        print(f\"Your issues should be resolved in {date_range} business days\")\n",
    "        print(\"\\n\"*3)\n",
    "        pie_chart()"
   ]
  },
  {
   "cell_type": "code",
   "execution_count": 21,
   "id": "dd7b73c5",
   "metadata": {},
   "outputs": [],
   "source": [
    "file = open(\"support_logo.jpg\", \"rb\")\n",
    "image = file.read()\n",
    "\n",
    "image_headline = widgets.Image(\n",
    "                    value=image,\n",
    "                    format='jpg',\n",
    "                    width='300'\n",
    "                )\n",
    "\n",
    "label_headline = widgets.Label(\n",
    "                    value='CC0 Public Domain',\n",
    "                    style={'description_width': 'initial'}\n",
    "                )\n",
    "\n",
    "vbox_headline = widgets.VBox([image_headline, label_headline])"
   ]
  },
  {
   "cell_type": "code",
   "execution_count": 22,
   "id": "d8c1f47b",
   "metadata": {},
   "outputs": [],
   "source": [
    "button_send.on_click(on_button_clicked)\n",
    "\n",
    "vbox_result = widgets.VBox([button_send, output])"
   ]
  },
  {
   "cell_type": "code",
   "execution_count": 23,
   "id": "94b4de69",
   "metadata": {},
   "outputs": [],
   "source": [
    "vbox_text = widgets.VBox([text_0, text_1, text_2, text_3, FiledAgainst, text_4, TicketType, text_5, Severity, text_6, Priority, text_7, RequestorSeniority, vbox_result])"
   ]
  },
  {
   "cell_type": "code",
   "execution_count": 24,
   "id": "beb1ddb2",
   "metadata": {},
   "outputs": [],
   "source": [
    "page = widgets.HBox([vbox_headline, vbox_text])"
   ]
  },
  {
   "cell_type": "code",
   "execution_count": 25,
   "id": "6790d1c1",
   "metadata": {},
   "outputs": [
    {
     "data": {
      "application/vnd.jupyter.widget-view+json": {
       "model_id": "ea46feb0d21e4a54b1b7ec85ccd85986",
       "version_major": 2,
       "version_minor": 0
      },
      "text/plain": [
       "HBox(children=(VBox(children=(Image(value=b'\\xff\\xd8\\xff\\xe1\\x00\\xc6Exif\\x00\\x00II*\\x00\\x08\\x00\\x00\\x00\\x06\\x0…"
      ]
     },
     "metadata": {},
     "output_type": "display_data"
    }
   ],
   "source": [
    "display(page)"
   ]
  },
  {
   "cell_type": "code",
   "execution_count": 27,
   "id": "3d547fcc-f6da-43fd-9efa-c4564fdd7dd9",
   "metadata": {},
   "outputs": [],
   "source": [
    "%%capture\n",
    "cm = metrics.confusion_matrix(y_test, y_pred, labels=dt.classes_)\n",
    "disp = metrics.ConfusionMatrixDisplay(confusion_matrix=cm, display_labels=['Rapid','Normal','Extended','Long-term'])\n",
    "disp.plot()\n",
    "disp.ax_.set(\n",
    "                title='Response Prediciton Confusion Matrix', \n",
    "                xlabel='Predicted Response', \n",
    "                ylabel='Actual Response')"
   ]
  },
  {
   "cell_type": "code",
   "execution_count": 28,
   "id": "ebd1b1f7-fc74-40c4-8349-6ccd1ad0bfc7",
   "metadata": {},
   "outputs": [],
   "source": [
    "%%capture\n",
    "plt.figure(figsize=(15,8))\n",
    "sns.heatmap(df.corr(), annot=True)"
   ]
  },
  {
   "cell_type": "code",
   "execution_count": null,
   "id": "6ff00e7d-5e5b-479f-8e58-1cf37371e81e",
   "metadata": {},
   "outputs": [],
   "source": []
  }
 ],
 "metadata": {
  "kernelspec": {
   "display_name": "Python 3 (ipykernel)",
   "language": "python",
   "name": "python3"
  },
  "language_info": {
   "codemirror_mode": {
    "name": "ipython",
    "version": 3
   },
   "file_extension": ".py",
   "mimetype": "text/x-python",
   "name": "python",
   "nbconvert_exporter": "python",
   "pygments_lexer": "ipython3",
   "version": "3.10.9"
  }
 },
 "nbformat": 4,
 "nbformat_minor": 5
}
